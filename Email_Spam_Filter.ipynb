{
  "nbformat": 4,
  "nbformat_minor": 0,
  "metadata": {
    "colab": {
      "name": "Welcome To Colaboratory",
      "version": "0.3.2",
      "provenance": [],
      "collapsed_sections": [],
      "include_colab_link": true
    },
    "kernelspec": {
      "display_name": "Python 3",
      "name": "python3"
    }
  },
  "cells": [
    {
      "cell_type": "markdown",
      "metadata": {
        "id": "view-in-github",
        "colab_type": "text"
      },
      "source": [
        "<a href=\"https://colab.research.google.com/github/HossamElghamry/Email_Spam_Filter/blob/master/Email_Spam_Filter.ipynb\" target=\"_parent\"><img src=\"https://colab.research.google.com/assets/colab-badge.svg\" alt=\"Open In Colab\"/></a>"
      ]
    },
    {
      "cell_type": "code",
      "metadata": {
        "id": "pBIRsXF3AJWm",
        "colab_type": "code",
        "colab": {
          "base_uri": "https://localhost:8080/",
          "height": 55
        },
        "outputId": "ecf325e0-f6c8-4e18-ef89-b0e77ec9bdc9"
      },
      "source": [
        "import os\n",
        "import numpy as np\n",
        "from collections import Counter\n",
        "from sklearn.naive_bayes import MultinomialNB, GaussianNB, BernoulliNB\n",
        "from sklearn.svm import SVC, NuSVC, LinearSVC\n",
        "from sklearn.metrics import confusion_matrix \n",
        "\n",
        "def make_Dictionary(train_dir):\n",
        "    emails = [os.path.join(train_dir,f) for f in os.listdir(train_dir)]    \n",
        "    all_words = []       \n",
        "    for mail in emails:    \n",
        "        with open(mail) as m:\n",
        "            for i,line in enumerate(m):\n",
        "                if i == 2:  #Body of email is only 3rd line of text file\n",
        "                    words = line.split()\n",
        "                    all_words += words\n",
        "    \n",
        "    dictionary = Counter(all_words)\n",
        "    # Paste code for non-word removal here(code snippet is given below) \n",
        "    return dictionary\n",
        "x = make_Dictionary(\"/content/Intern_task/\")\n",
        "print (x)\n"
      ],
      "execution_count": 21,
      "outputs": [
        {
          "output_type": "stream",
          "text": [
            "Counter({'-': 175, '/': 21, 'the': 10, '.': 9, 'on': 7, ':': 7, '99': 5, '12': 5, 'for': 5, 'forwarded': 4, 'by': 4, 'hou': 4, 'ect': 4, 'pm': 4, ',': 4, 'in': 3, 'of': 3, '02': 3, 'following': 3, 'i': 3, 'is': 2, 'day': 2, 'from': 2, 'and': 2, '14': 2, 'this': 2, 'could': 2, 'a': 2, '17': 2, 'deal': 2, 'meter': 2, 'has': 2, '15': 2, '1': 2, 'since': 1, 'inlet': 1, 'to': 1, '3': 1, 'river': 1, 'plant': 1, 'shut': 1, '10': 1, '19': 1, '(': 1, 'last': 1, 'with': 1, 'members': 1, 'commercial': 1, 'volume': 1, 'managment': 1, 'concernig': 1, 'entex': 1, 'account': 1, 'gary': 1, 'l': 1, 'payne': 1, '35': 1, 'am': 1, 'issues': 1, 'hplc': 1, 'purchasing': 1, 'gas': 1, 'list': 1, 'producers': 1, 'system': 1, 'you': 1, 'please': 1, 'resolve': 1, 'issue': 1, 'howard': 1, '?': 1, 'will': 1, 'be': 1, 'out': 1, 'office': 1, 'lauri': 1, 'allen': 1, 'gregg': 1, 'lenart': 1, '16': 1, 'sale': 1, 'contract': 1, '078': 1, '15631': 1, '102': 1, '462': 1, 'mmbtu': 1, 'george': 1, 'grant': 1, '281': 1, '282': 1, '9084': 1, '713': 1, '764': 1, '5128': 1, 'keep': 1, 'mind': 1, 'key': 1, 'times': 1, 'sitara': 1, '92943': 1, '1431': 1, 'expired': 1, 'oct': 1, '31': 1, '1999': 1, 'settlements': 1, 'oss': 1, 'above': 1, 'reference': 1, 'nor': 1, 'find': 1, 'anything': 1, 'cpr': 1, 'need': 1, 'done': 1, 'stella': 1, 'new': 1, '000': 1, 'begins': 1, '00': 1, 'currently': 1, 'no': 1, 'buyback': 1, 'susan': 1, 'd': 1, 'trevino': 1, '08': 1, '40': 1})\n"
          ],
          "name": "stdout"
        }
      ]
    }
  ]
}